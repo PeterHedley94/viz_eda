{
 "cells": [
  {
   "cell_type": "code",
   "execution_count": 39,
   "metadata": {},
   "outputs": [
    {
     "name": "stdout",
     "output_type": "stream",
     "text": [
      "loading annotations into memory...\n",
      "Done (t=0.90s)\n",
      "creating index...\n",
      "index created!\n"
     ]
    }
   ],
   "source": [
    "import numpy as np\n",
    "import pandas as pd\n",
    "import cv2\n",
    "import random\n",
    "import skimage.io as io\n",
    "from skimage.color import gray2rgb\n",
    "from pycocotools.coco import COCO\n",
    "from sklearn.model_selection import train_test_split\n",
    "from sklearn.ensemble import IsolationForest\n",
    "from sklearn.neighbors import LocalOutlierFactor\n",
    "from matplotlib.path import Path\n",
    "\n",
    "dataDir='data'\n",
    "dataType='val2017'\n",
    "annFile='{}/annotations/instances_{}.json'.format(dataDir,dataType)\n",
    "\n",
    "# Initialize the COCO api for instance annotations\n",
    "cocoData = COCO(annFile)"
   ]
  },
  {
   "cell_type": "code",
   "execution_count": 6,
   "metadata": {},
   "outputs": [],
   "source": [
    "def segmentTo2DArray(segmentation):\n",
    "    polygon = []\n",
    "    for partition in segmentation:\n",
    "        for x, y in zip(partition[::2], partition[1::2]):\n",
    "            polygon.append((x, y))\n",
    "    return polygon\n",
    "\n",
    "\n",
    "def maskPixels(polygon, img):\n",
    "    path = Path(polygon)\n",
    "    x, y = np.mgrid[:img['width'], :img['height']]\n",
    "    points = np.vstack((x.ravel(), y.ravel())).T\n",
    "    mask = path.contains_points(points)\n",
    "    img_mask = mask.reshape(x.shape).T\n",
    "    return img_mask\n",
    "\n",
    "\n",
    "def getSegmentedMasks(filterClasses):\n",
    "    # Returns single object annotation with background removed\n",
    "    dataDir = 'data'\n",
    "    dataType = 'val2017'\n",
    "    catIds = cocoData.getCatIds(catNms=filterClasses)\n",
    "    imgIds = cocoData.getImgIds(catIds=catIds)\n",
    "\n",
    "    if len(imgIds) > 500:\n",
    "        imgIds = random.sample(imgIds, 500)\n",
    "    imgs = cocoData.loadImgs(imgIds)\n",
    "\n",
    "    segmented_masks = []\n",
    "    for img in imgs:\n",
    "        # Load image\n",
    "        loaded_img = io.imread('{}/{}/{}'.format(dataDir, dataType, img['file_name'])) / 255.0\n",
    "        if len(loaded_img.shape) == 2:\n",
    "            loaded_img = gray2rgb(loaded_img)\n",
    "\n",
    "        # Load annotations\n",
    "        annIds = cocoData.getAnnIds(imgIds=img['id'], catIds=catIds, iscrowd=0)\n",
    "        anns = cocoData.loadAnns(annIds)\n",
    "\n",
    "        for ann in anns:\n",
    "            polyVerts = segmentTo2DArray(ann['segmentation'])\n",
    "            img_mask = maskPixels(polyVerts, img)\n",
    "            segmented_masks.append(loaded_img * img_mask[..., None])\n",
    "    return segmented_masks"
   ]
  },
  {
   "cell_type": "code",
   "execution_count": 19,
   "metadata": {},
   "outputs": [],
   "source": [
    "def imageHist(image, bins=(4, 6, 3)):\n",
    "    valid_pix = np.float32(image.reshape(-1, 3))\n",
    "    valid_pix = valid_pix[np.all(valid_pix != 0, axis=1), :]\n",
    "    # compute a 3D color histogram over the image and normalize it\n",
    "    hist = cv2.calcHist(valid_pix, [0, 1, 2], None, bins, [0, 180, 0, 256, 0, 256])\n",
    "    hist = cv2.normalize(hist, hist).flatten()\n",
    "    # return the histogram\n",
    "    return hist\n",
    "\n",
    "\n",
    "def loadHistograms(images, bins):\n",
    "    data = []\n",
    "    for image in images:\n",
    "        img_float32 = np.float32(image)\n",
    "        image = cv2.cvtColor(img_float32, cv2.COLOR_RGB2HSV)\n",
    "        features = imageHist(image, bins)\n",
    "        data.append(features)\n",
    "    return np.array(data)"
   ]
  },
  {
   "cell_type": "code",
   "execution_count": 17,
   "metadata": {},
   "outputs": [
    {
     "name": "stdout",
     "output_type": "stream",
     "text": [
      "Loading object masks...\n"
     ]
    }
   ],
   "source": [
    "print(\"Loading object masks...\")\n",
    "segmented_masks = getSegmentedMasks([\"pizza\"])"
   ]
  },
  {
   "cell_type": "code",
   "execution_count": 35,
   "metadata": {},
   "outputs": [
    {
     "name": "stdout",
     "output_type": "stream",
     "text": [
      "Preparing dataset...\n",
      "Fitting anomaly detection model...\n",
      "Predicting outliers...\n"
     ]
    }
   ],
   "source": [
    "# Supervised learning, assuming X train does not contain anomalies\n",
    "print(\"Preparing dataset...\")\n",
    "x_train_masks, x_test_masks = train_test_split(segmented_masks, test_size=0.3)  \n",
    "x_train_features = loadHistograms(x_train_masks, bins=(3, 3, 3))\n",
    "x_test_features = loadHistograms(x_test_masks, bins=(3, 3, 3))\n",
    "\n",
    "print(\"Fitting anomaly detection model...\")\n",
    "model = IsolationForest(behaviour='new', n_estimators=100, contamination=0.01, random_state=42)\n",
    "model.fit(x_train_features)\n",
    "\n",
    "print(\"Predicting outliers...\")\n",
    "for obj_features, mask in zip(x_test_features, x_test_masks):\n",
    "    pred = model.predict([obj_features])[0]\n",
    "    label = 'anomaly' if pred == -1 else 'normal'\n",
    "    color = (255, 0, 0) if pred == -1 else (0, 255, 0)\n",
    "    \n",
    "    cv2.putText(mask, label, (10,  25), cv2.FONT_HERSHEY_SIMPLEX, 0.7, color, 2)\n",
    "    if label == 'anomaly':\n",
    "        mask = np.float32(mask)\n",
    "        RGB_img = cv2.cvtColor(mask, cv2.COLOR_BGR2RGB)\n",
    "        cv2.imshow(\"Output\", RGB_img)\n",
    "        cv2.waitKey(0)"
   ]
  },
  {
   "cell_type": "code",
   "execution_count": 40,
   "metadata": {},
   "outputs": [
    {
     "name": "stdout",
     "output_type": "stream",
     "text": [
      "Preparing dataset...\n",
      "Fitting anomaly detection model...\n"
     ]
    }
   ],
   "source": [
    "# Unsupervised learning\n",
    "print(\"Preparing dataset...\")\n",
    "train_features = loadHistograms(segmented_masks, bins=(3, 3, 3))\n",
    "lof = LocalOutlierFactor(n_neighbors=20, contamination=0.01)\n",
    "\n",
    "print(\"Fitting anomaly detection model...\")\n",
    "results = pd.DataFrame()\n",
    "results['lof'] = lof.fit_predict(train_features)\n",
    "results['negative_outlier_factor'] = lof.negative_outlier_factor_\n",
    "outliers = results[results['lof'] == -1]"
   ]
  },
  {
   "cell_type": "code",
   "execution_count": 44,
   "metadata": {},
   "outputs": [
    {
     "name": "stdout",
     "output_type": "stream",
     "text": [
      "Loading object masks...\n",
      "Preparing dataset...\n",
      "Fitting anomaly detection model...\n",
      "[385029, 547854, 232489, 340015, 122962, 351331, 451693, 287347, 246436, 194746, 353027, 12576, 173371, 258883, 177489, 470924, 555412, 400794, 424349, 8629, 173004, 127476, 279541]\n"
     ]
    },
    {
     "data": {
      "image/png": "[encoded data removed]",
      "text/plain": [
       "<Figure size 432x288 with 1 Axes>"
      ]
     },
     "metadata": {
      "needs_background": "light"
     },
     "output_type": "display_data"
    }
   ],
   "source": [
    "def getOutliers(filterClasses, nn=20, contamination=0.1):\n",
    "    print(\"Loading object masks...\")\n",
    "    segmented_masks = getSegmentedMasks(filterClasses)\n",
    "    \n",
    "    print(\"Preparing dataset...\")\n",
    "    train_features = loadHistograms(segmented_masks, bins=(3, 3, 3))\n",
    "    lof = LocalOutlierFactor(n_neighbors=nn, contamination=contamination)\n",
    "    \n",
    "    print(\"Fitting anomaly detection model...\")\n",
    "    results = pd.DataFrame()\n",
    "    \n",
    "    results['lof'] = lof.fit_predict(train_features)\n",
    "    results['negative_outlier_factor'] = lof.negative_outlier_factor_\n",
    "    outliers = results[results['lof'] == -1]\n",
    "    return results\n",
    "    \n",
    "\n",
    "def getOutlyingImgs(filterClasses, preds):\n",
    "    catIds = cocoData.getCatIds(catNms=filterClasses)\n",
    "    imgIds = cocoData.getImgIds(catIds=catIds)\n",
    "    annIds = cocoData.getAnnIds(imgIds=imgIds, catIds=catIds, iscrowd=0)\n",
    "    anns = cocoData.loadAnns(annIds)\n",
    "    cocoData.showAnns(anns)\n",
    "    \n",
    "    outlying_objs_anns = []\n",
    "    for annId, pred in zip(annIds, preds):\n",
    "        if pred == -1:\n",
    "            outlying_objs_anns.append(annId)\n",
    "            \n",
    "    imgs_with_outliers = []\n",
    "    for img in imgIds:\n",
    "        img_anns = set(cocoData.getAnnIds(imgIds=[img]))\n",
    "        outlying_anns = set(outlying_objs_anns)\n",
    "        if len(img_anns.intersection(outlying_anns)) > 0:\n",
    "            imgs_with_outliers.append(img)\n",
    "    return imgs_with_outliers\n",
    "\n",
    "preds_df = getOutliers([\"pizza\"])\n",
    "outlier_imgIds = getOutlyingImgs([\"pizza\"], preds_df['lof'])\n",
    "print(outlier_imgIds)"
   ]
  }
 ],
 "metadata": {
  "kernelspec": {
   "display_name": "Python 3",
   "language": "python",
   "name": "python3"
  },
  "language_info": {
   "codemirror_mode": {
    "name": "ipython",
    "version": 3
   },
   "file_extension": ".py",
   "mimetype": "text/x-python",
   "name": "python",
   "nbconvert_exporter": "python",
   "pygments_lexer": "ipython3",
   "version": "3.7.4"
  }
 },
 "nbformat": 4,
 "nbformat_minor": 2
}
