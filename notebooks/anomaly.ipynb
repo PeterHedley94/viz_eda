{
 "cells": [
  {
   "cell_type": "code",
   "execution_count": 54,
   "metadata": {},
   "outputs": [
    {
     "name": "stdout",
     "output_type": "stream",
     "text": [
      "loading annotations into memory...\n",
      "Done (t=1.20s)\n",
      "creating index...\n",
      "index created!\n"
     ]
    }
   ],
   "source": [
    "import numpy as np\n",
    "import pandas as pd\n",
    "import cv2\n",
    "import random\n",
    "from pycocotools.coco import COCO\n",
    "from sklearn.model_selection import train_test_split\n",
    "from sklearn.ensemble import IsolationForest\n",
    "from sklearn.neighbors import LocalOutlierFactor\n",
    "from sklearn.decomposition import PCA, SparsePCA\n",
    "from tqdm import tqdm\n",
    "\n",
    "dataDir='data'\n",
    "dataType='val2017'\n",
    "annFile='{}/annotations/instances_{}.json'.format(dataDir,dataType)\n",
    "\n",
    "# Initialize the COCO api for instance annotations\n",
    "cocoData = COCO(annFile)"
   ]
  },
  {
   "cell_type": "code",
   "execution_count": 169,
   "metadata": {
    "scrolled": true
   },
   "outputs": [
    {
     "name": "stderr",
     "output_type": "stream",
     "text": [
      "  1%|▊                                                                                 | 2/191 [00:00<00:14, 13.02it/s]"
     ]
    },
    {
     "name": "stdout",
     "output_type": "stream",
     "text": [
      "Loading object masks...\n"
     ]
    },
    {
     "name": "stderr",
     "output_type": "stream",
     "text": [
      "100%|████████████████████████████████████████████████████████████████████████████████| 191/191 [00:09<00:00, 20.82it/s]\n"
     ]
    }
   ],
   "source": [
    "def segmentTo2DArray(segmentation):\n",
    "    polygon = []\n",
    "    for partition in segmentation:\n",
    "        for x, y in zip(partition[::2], partition[1::2]):\n",
    "            polygon.append((x, y))\n",
    "    return polygon\n",
    "\n",
    "\n",
    "def maskPixels(polygon, img_dict, image_folder):\n",
    "    img = cv2.imread('{}/{}'.format(image_folder, img_dict['file_name']))\n",
    "    mask = np.zeros(img.shape, dtype=np.uint8)\n",
    "    polygon = np.int32(polygon)\n",
    "    cv2.fillPoly(mask, [polygon], (255, 255, 255))\n",
    "    masked_image = cv2.bitwise_and(img, mask)\n",
    "    masked_image = cv2.cvtColor(masked_image, cv2.COLOR_BGR2RGB)\n",
    "    return masked_image\n",
    "\n",
    "\n",
    "def getSegmentedMasks(filterClasses, image_folder):\n",
    "    # Returns single object annotation with black background\n",
    "    catIds = cocoData.getCatIds(catNms=filterClasses)\n",
    "    imgIds = cocoData.getImgIds(catIds=catIds)\n",
    "\n",
    "    if len(imgIds) > 500:\n",
    "        imgIds = random.sample(imgIds, 500)\n",
    "    imgs = cocoData.loadImgs(imgIds)\n",
    "    \n",
    "    mask_annIds = []\n",
    "    masked_imgs = []\n",
    "    for img_dict in tqdm(imgs):\n",
    "        # Load annotations\n",
    "        annIds = cocoData.getAnnIds(imgIds=img_dict['id'], catIds=catIds, iscrowd=0)\n",
    "        anns = cocoData.loadAnns(annIds)\n",
    "        mask_annIds.extend(annIds)\n",
    "        # Create masked images\n",
    "        for ann in anns:\n",
    "            polyVerts = segmentTo2DArray(ann['segmentation'])\n",
    "            masked_img = maskPixels(polyVerts, img_dict, image_folder)\n",
    "            valid_pix = np.float32(masked_img.reshape(-1, 3))\n",
    "            valid_pix = valid_pix[np.all(valid_pix != 0, axis=1), :]\n",
    "            if valid_pix.shape[0] > 0:\n",
    "                masked_imgs.append(masked_img)\n",
    "    return masked_imgs, mask_annIds\n",
    "\n",
    "cat = 'traffic light'\n",
    "print(\"Loading object masks...\")\n",
    "segmented_masks, mask_annIds = getSegmentedMasks([cat], 'data/val2017')"
   ]
  },
  {
   "cell_type": "code",
   "execution_count": 170,
   "metadata": {},
   "outputs": [
    {
     "name": "stderr",
     "output_type": "stream",
     "text": [
      "  3%|██▊                                                                             | 22/634 [00:00<00:02, 216.27it/s]"
     ]
    },
    {
     "name": "stdout",
     "output_type": "stream",
     "text": [
      "Calculating histogram features...\n"
     ]
    },
    {
     "name": "stderr",
     "output_type": "stream",
     "text": [
      "100%|███████████████████████████████████████████████████████████████████████████████| 634/634 [00:02<00:00, 251.76it/s]\n"
     ]
    }
   ],
   "source": [
    "def imageHist(image, bins=(4, 6, 3)):\n",
    "    # compute a 3D color histogram over the image and normalize it\n",
    "    hist = cv2.calcHist(image, [0, 1, 2], None, bins, [0, 180, 0, 256, 0, 256])\n",
    "    hist = cv2.normalize(hist, hist).flatten()\n",
    "    return hist\n",
    "\n",
    "def loadHistograms(images, bins):\n",
    "    data = []\n",
    "    for image in tqdm(images):\n",
    "        img_float32 = np.float32(image)\n",
    "        image = cv2.cvtColor(img_float32, cv2.COLOR_RGB2HSV)\n",
    "        features = imageHist(image, bins)\n",
    "        data.append(features)\n",
    "    return np.array(data)\n",
    "\n",
    "print(\"Calculating histogram features...\")\n",
    "histData = loadHistograms(segmented_masks, bins=(3, 3, 3))"
   ]
  },
  {
   "cell_type": "code",
   "execution_count": 171,
   "metadata": {},
   "outputs": [
    {
     "name": "stdout",
     "output_type": "stream",
     "text": [
      "634\n",
      "Getting average area...\n",
      "Getting average roughness of segmentation...\n"
     ]
    }
   ],
   "source": [
    "def getArea(filterClasses, annIds=None):\n",
    "    # Returns average proportion an object of a given class takes up in the image\n",
    "    catIds = cocoData.getCatIds(catNms=filterClasses)\n",
    "    imgIds = cocoData.getImgIds(catIds=catIds)\n",
    "\n",
    "    data = {}\n",
    "    for imgId in imgIds:\n",
    "        imAnn = cocoData.loadImgs(ids=imgId)[0]\n",
    "        all_annIds = cocoData.getAnnIds(imgIds=imgId, catIds=catIds, iscrowd=0)\n",
    "        if annIds is not None:\n",
    "            all_annIds = list(set(all_annIds).intersection(set(annIds)))\n",
    "        objs = cocoData.loadAnns(ids=all_annIds)        \n",
    "        for obj in objs:\n",
    "            proportion = obj['area'] / (imAnn['width'] * imAnn['height'])\n",
    "            data[len(data)] = [imgId, obj['id'], proportion]\n",
    "    df = pd.DataFrame.from_dict(data, orient='index', columns=['imgID', 'annID', 'proportion of img'])\n",
    "    avg = df['proportion of img'].sum() / len(df['proportion of img'])\n",
    "    return avg, df\n",
    "\n",
    "\n",
    "def getSegRoughness(filterClasses, annIds=None):\n",
    "    # Returns average roughness an object of a given class\n",
    "    # \"Roughness\" = number of segmentation vertices / area of obj\n",
    "    catIds = cocoData.getCatIds(catNms=filterClasses)\n",
    "    imgIds = cocoData.getImgIds(catIds=catIds)\n",
    "\n",
    "    data = {}\n",
    "    for imgID in imgIds:\n",
    "        all_annIds = cocoData.getAnnIds(imgIds=imgID, catIds=catIds, iscrowd=0)\n",
    "        if annIds is not None:\n",
    "            all_annIds = list(set(all_annIds).intersection(set(annIds)))\n",
    "        objs = cocoData.loadAnns(ids=all_annIds)\n",
    "        for obj in objs:\n",
    "            num_vertices = len(obj['segmentation'])\n",
    "            roughness = num_vertices / obj['area']\n",
    "            data[len(data)] = [imgID, obj['id'], roughness]\n",
    "    df = pd.DataFrame.from_dict(data, orient='index', columns=['imgID', 'annID', 'roughness of annotation'])\n",
    "    avg = df['roughness of annotation'].sum() / len(df['roughness of annotation'])\n",
    "    return avg, df\n",
    "\n",
    "print(len(mask_annIds))\n",
    "print(\"Getting average area...\")\n",
    "avgArea, areaData = getArea([cat], mask_annIds)\n",
    "print(\"Getting average roughness of segmentation...\")\n",
    "avgRoughness, roughnessData = getSegRoughness([cat], mask_annIds)"
   ]
  },
  {
   "cell_type": "code",
   "execution_count": 175,
   "metadata": {},
   "outputs": [
    {
     "name": "stderr",
     "output_type": "stream",
     "text": [
      "  1%|▊                                                                                 | 6/634 [00:00<00:10, 58.98it/s]"
     ]
    },
    {
     "name": "stdout",
     "output_type": "stream",
     "text": [
      "Getting dominant colours...\n",
      "--Processing object colours\n"
     ]
    },
    {
     "name": "stderr",
     "output_type": "stream",
     "text": [
      "100%|████████████████████████████████████████████████████████████████████████████████| 634/634 [00:07<00:00, 80.23it/s]\n"
     ]
    },
    {
     "name": "stdout",
     "output_type": "stream",
     "text": [
      "--Stitching objects...\n",
      "--Processing category colours...\n"
     ]
    }
   ],
   "source": [
    "def stichImages(im_list, interpolation=cv2.INTER_CUBIC):\n",
    "    w_min = min(im.shape[1] for im in im_list)\n",
    "    im_list_resize = [cv2.resize(im, (w_min, int(im.shape[0] * w_min / im.shape[1])), interpolation=interpolation)\n",
    "                      for im in im_list]\n",
    "    return np.array(cv2.vconcat(im_list_resize))\n",
    "\n",
    "def getObjColors(image):\n",
    "    n_colors = 4\n",
    "    criteria = (cv2.TERM_CRITERIA_EPS + cv2.TERM_CRITERIA_MAX_ITER, 20, 0.1)\n",
    "    flags = cv2.KMEANS_RANDOM_CENTERS\n",
    "\n",
    "    pixels = np.float32(image.reshape(-1, 3))\n",
    "    pixels = pixels[np.all(pixels != 0, axis=1), :]\n",
    "    if len(pixels) < n_colors:\n",
    "        n_colors = len(pixels)\n",
    "        print(n_colors)\n",
    "    _, labels, palette = cv2.kmeans(pixels, n_colors, None, criteria, 10, flags)\n",
    "    _, counts = np.unique(labels, return_counts=True)\n",
    "    return counts, palette\n",
    "\n",
    "def getCatColors(segmented_masks):\n",
    "    print(\"--Processing object colours\")\n",
    "    colourData = []\n",
    "    for mask in tqdm(segmented_masks):\n",
    "        _, palette = getObjColors(mask)\n",
    "        colourData.append(palette)\n",
    "    print(\"--Stitching objects...\")\n",
    "    image = stichImages(segmented_masks)\n",
    "    print(\"--Processing category colours...\")\n",
    "    counts, palette = getObjColors(image)\n",
    "    # color_patch = displayDominantColors(counts, palette)\n",
    "    return palette, colourData\n",
    "\n",
    "print(\"Getting dominant colours...\")\n",
    "catColours, colourData = getCatColors(segmented_masks)"
   ]
  },
  {
   "cell_type": "code",
   "execution_count": 139,
   "metadata": {},
   "outputs": [
    {
     "name": "stdout",
     "output_type": "stream",
     "text": [
      "Getting abnormal objects...\n",
      "<bound method NDFrame.head of         histX  histY  histZ      area  roughness     colourX     colourY  \\\n",
      "0   -0.048586    0.0    0.0  0.013345   0.000548 -141.167080  -91.081141   \n",
      "1   -0.048586    0.0    0.0  0.089747   0.000034   31.193865 -238.007377   \n",
      "2   -0.048586    0.0    0.0  0.000744   0.004916   66.754082   85.825268   \n",
      "3   -0.048586    0.0    0.0  0.001611   0.003311  193.500240 -154.081734   \n",
      "4   -0.048586    0.0    0.0  0.020063   0.000532   -9.788154  219.335160   \n",
      "..        ...    ...    ...       ...        ...         ...         ...   \n",
      "419 -0.048586    0.0    0.0  0.020355   0.000294   48.338975  148.940904   \n",
      "420 -0.048586    0.0    0.0  0.018989   0.000171   18.841282  -58.039602   \n",
      "421 -0.048586    0.0    0.0  0.007071   0.000460    6.127668   23.549757   \n",
      "422 -0.048586    0.0    0.0  0.002556   0.001273   72.816208   74.716849   \n",
      "423 -0.048586    0.0    0.0  0.042531   0.000063 -109.508150  234.909089   \n",
      "\n",
      "        colourZ  \n",
      "0    -26.389953  \n",
      "1     62.764270  \n",
      "2     53.944563  \n",
      "3     86.460676  \n",
      "4    -77.065817  \n",
      "..          ...  \n",
      "419 -121.731814  \n",
      "420   11.500454  \n",
      "421  -97.889552  \n",
      "422  -47.401537  \n",
      "423  -69.984984  \n",
      "\n",
      "[424 rows x 8 columns]>\n",
      "--Fitting anomaly detection model...\n",
      "<bound method NDFrame.head of      lof  negative_outlier_factor\n",
      "0      1                -1.011127\n",
      "1      1                -1.033770\n",
      "2      1                -0.979970\n",
      "3      1                -1.112073\n",
      "4      1                -1.017653\n",
      "..   ...                      ...\n",
      "419    1                -1.032570\n",
      "420    1                -0.976915\n",
      "421    1                -1.071023\n",
      "422    1                -0.978120\n",
      "423    1                -1.099178\n",
      "\n",
      "[424 rows x 2 columns]>\n",
      "[377882, 257566, 531495, 178744, 228436, 20571, 532575, 335529, 378139, 113051, 46497, 345027, 442822, 289741, 522713, 230362]\n",
      "[1802904, 176523, 180977, 180209, 1803448, 1804090, 249607, 177574, 178650, 2055152, 1376054, 176039, 175710, 1376577, 1379848, 1380257, 1801347, 177339, 181209, 181409, 181816, 1802214]\n"
     ]
    },
    {
     "name": "stderr",
     "output_type": "stream",
     "text": [
      "C:\\Users\\mrric\\Anaconda3\\lib\\site-packages\\sklearn\\decomposition\\sparse_pca.py:170: DeprecationWarning: normalize_components=False is a backward-compatible setting that implements a non-standard definition of sparse PCA. This compatibility mode will be removed in 0.22.\n",
      "  DeprecationWarning)\n"
     ]
    }
   ],
   "source": [
    "def getOutliers(histData, areaData, roughnessData, colourData, nn=20, contamination=0.05,):\n",
    "    colourData_2d = []\n",
    "    for palette in colourData:\n",
    "        c = [j for i in palette for j in i]\n",
    "        colourData_2d.append(c)\n",
    "    pca = PCA(n_components=3)\n",
    "    colourData_2d = pca.fit_transform(colourData_2d)\n",
    "    \n",
    "    sparse_pca = SparsePCA(n_components=3)\n",
    "    histData = sparse_pca.fit_transform(histData)\n",
    "    \n",
    "    train = pd.DataFrame(areaData['annID'])\n",
    "    train = train.join(pd.DataFrame(histData, columns=['histX', 'histY', 'histZ']))\n",
    "    train['area'] = areaData['proportion of img']\n",
    "    train['roughness'] = roughnessData['roughness of annotation']\n",
    "    train = train.join(pd.DataFrame(colourData_2d, columns=['colourX', 'colourY', 'colourZ']))\n",
    "    train = train.drop(['annID'], axis=1)\n",
    "    print(train.head)\n",
    "\n",
    "    print(\"--Fitting anomaly detection model...\")\n",
    "    lof = LocalOutlierFactor(n_neighbors=nn, contamination=contamination)\n",
    "    results = pd.DataFrame()\n",
    "    results['lof'] = lof.fit_predict(train)\n",
    "    results['negative_outlier_factor'] = lof.negative_outlier_factor_\n",
    "    print(results.head)\n",
    "    return results\n",
    "\n",
    "\n",
    "def getAnomalies(filterClasses, preds):\n",
    "    catIds = cocoData.getCatIds(catNms=filterClasses)\n",
    "    imgIds = cocoData.getImgIds(catIds=catIds)\n",
    "    annIds = cocoData.getAnnIds(imgIds=imgIds, catIds=catIds, iscrowd=0)\n",
    "\n",
    "    outlying_objs_anns = []\n",
    "    for annId, pred in zip(annIds, preds):\n",
    "        if pred == -1:\n",
    "            outlying_objs_anns.append(annId)\n",
    "\n",
    "    imgs_with_outliers = []\n",
    "    for img in imgIds:\n",
    "        img_anns = set(cocoData.getAnnIds(imgIds=[img]))\n",
    "        outlying_anns = set(outlying_objs_anns)\n",
    "        if len(img_anns.intersection(outlying_anns)) > 0:\n",
    "            imgs_with_outliers.append(img)\n",
    "    return imgs_with_outliers, outlying_objs_anns\n",
    "\n",
    "\n",
    "print(\"Getting abnormal objects...\")\n",
    "preds_df = getOutliers(histData, areaData, roughnessData, colourData)\n",
    "outlier_imgIds, outlier_annIds = getAnomalies([cat], preds_df['lof'])\n",
    "print(outlier_imgIds)\n",
    "print(outlier_annIds)"
   ]
  }
 ],
 "metadata": {
  "kernelspec": {
   "display_name": "Python 3",
   "language": "python",
   "name": "python3"
  },
  "language_info": {
   "codemirror_mode": {
    "name": "ipython",
    "version": 3
   },
   "file_extension": ".py",
   "mimetype": "text/x-python",
   "name": "python",
   "nbconvert_exporter": "python",
   "pygments_lexer": "ipython3",
   "version": "3.7.4"
  }
 },
 "nbformat": 4,
 "nbformat_minor": 2
}
